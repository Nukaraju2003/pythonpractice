{
  "nbformat": 4,
  "nbformat_minor": 0,
  "metadata": {
    "colab": {
      "provenance": [],
      "authorship_tag": "ABX9TyMg3BfcELxoHPmAWETcYG/G",
      "include_colab_link": true
    },
    "kernelspec": {
      "name": "python3",
      "display_name": "Python 3"
    },
    "language_info": {
      "name": "python"
    }
  },
  "cells": [
    {
      "cell_type": "markdown",
      "metadata": {
        "id": "view-in-github",
        "colab_type": "text"
      },
      "source": [
        "<a href=\"https://colab.research.google.com/github/Nukaraju2003/pythonpractice/blob/main/python_oops.ipynb\" target=\"_parent\"><img src=\"https://colab.research.google.com/assets/colab-badge.svg\" alt=\"Open In Colab\"/></a>"
      ]
    },
    {
      "cell_type": "code",
      "execution_count": null,
      "metadata": {
        "colab": {
          "base_uri": "https://localhost:8080/"
        },
        "id": "1IJMw4_i60Rp",
        "outputId": "30ffcd36-3f97-43d1-8614-9f37b0f81dad"
      },
      "outputs": [
        {
          "output_type": "stream",
          "name": "stdout",
          "text": [
            "Student regd.no. is 16PA1A0501\n",
            "Student name is Ramesh\n",
            "Student branch is CSE\n"
          ]
        }
      ],
      "source": [
        "class Student:\n",
        "    #branch is a class variable\n",
        "    branch = \"CSE\"\n",
        "    def read_student_details(self, rno, n): \n",
        "        #regdno and name are instance variables\n",
        "        self.regdno = rno \n",
        "        self.name = n\n",
        "    def print_student_details(self):\n",
        "        print(\"Student regd.no. is\", self.regdno)\n",
        "        print(\"Student name is\", self.name)\n",
        "        print(\"Student branch is\", Student.branch)\n",
        "s = Student( ) #s is an object of class Student\n",
        "s.read_student_details(\"16PA1A0501\", \"Ramesh\")\n",
        "s.print_student_details( )"
      ]
    },
    {
      "cell_type": "code",
      "source": [],
      "metadata": {
        "id": "SQOBSE4R7vpO"
      },
      "execution_count": null,
      "outputs": []
    }
  ]
}